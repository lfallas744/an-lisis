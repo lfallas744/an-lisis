{
  "nbformat": 4,
  "nbformat_minor": 0,
  "metadata": {
    "colab": {
      "name": "Laboratorio8junio.ipynb",
      "provenance": [],
      "authorship_tag": "ABX9TyNI1ehsHPINumcpvANE55JE",
      "include_colab_link": true
    },
    "kernelspec": {
      "name": "python3",
      "display_name": "Python 3"
    },
    "language_info": {
      "name": "python"
    }
  },
  "cells": [
    {
      "cell_type": "markdown",
      "metadata": {
        "id": "view-in-github",
        "colab_type": "text"
      },
      "source": [
        "<a href=\"https://colab.research.google.com/github/lfallas744/an-lisis/blob/main/Laboratorio8junio.ipynb\" target=\"_parent\"><img src=\"https://colab.research.google.com/assets/colab-badge.svg\" alt=\"Open In Colab\"/></a>"
      ]
    },
    {
      "cell_type": "markdown",
      "source": [
        "## **Laboratorio inicial de uso de Colab**"
      ],
      "metadata": {
        "id": "xs05dDqhBjPD"
      }
    },
    {
      "cell_type": "markdown",
      "source": [
        "Luis Fallas Carvajal"
      ],
      "metadata": {
        "id": "DtyV-eICBdX5"
      }
    },
    {
      "cell_type": "code",
      "source": [
        "from gspread.models import Worksheet\n",
        "import pandas as pd\n",
        "\n",
        "from google.colab import auth\n",
        "auth.authenticate_user()\n",
        "\n",
        "import gspread\n",
        "from google.auth import default\n",
        "creds, _ = default()\n",
        "\n",
        "gc = gspread.authorize(creds)\n",
        "sh=gc.create('Hoja Luis Fallas')\n",
        "\n",
        "worksheet = gc.open('Hoja Luis Fallas').sheet1\n",
        "\n",
        "cell_list = worksheet.range('A1:G14')\n",
        "\n",
        "import random\n",
        "for cell in cell_list:\n",
        "  cell.value = random.randint(1,10)\n",
        "\n",
        "worksheet.update_cells(cell_list)"
      ],
      "metadata": {
        "colab": {
          "base_uri": "https://localhost:8080/"
        },
        "id": "ATzTuScpBsts",
        "outputId": "63dafa02-9113-4780-fa28-9e7c97616ee8"
      },
      "execution_count": 6,
      "outputs": [
        {
          "output_type": "execute_result",
          "data": {
            "text/plain": [
              "{'spreadsheetId': '1ytWh5VyvBuLZl4AI0zEUKrxj_YscbrSrKka5-W_tZRE',\n",
              " 'updatedCells': 98,\n",
              " 'updatedColumns': 7,\n",
              " 'updatedRange': \"'Hoja 1'!A1:G14\",\n",
              " 'updatedRows': 14}"
            ]
          },
          "metadata": {},
          "execution_count": 6
        }
      ]
    },
    {
      "cell_type": "code",
      "source": [
        "worksheet = gc.open('Hoja Luis Fallas').sheet1\n",
        "rows = worksheet.get_all_values()\n",
        "print(rows)"
      ],
      "metadata": {
        "colab": {
          "base_uri": "https://localhost:8080/"
        },
        "id": "ZZlPfc-UH5Ig",
        "outputId": "656c9327-131e-4a7d-b830-fc259797e811"
      },
      "execution_count": 7,
      "outputs": [
        {
          "output_type": "stream",
          "name": "stdout",
          "text": [
            "[['5', '5', '2', '1', '5', '9', '9'], ['9', '4', '9', '3', '7', '9', '5'], ['6', '3', '10', '9', '6', '2', '7'], ['2', '9', '10', '4', '1', '10', '8'], ['5', '7', '1', '7', '5', '1', '5'], ['1', '5', '3', '3', '5', '10', '10'], ['8', '6', '9', '2', '8', '3', '9'], ['1', '8', '8', '7', '10', '5', '1'], ['8', '5', '4', '8', '4', '1', '4'], ['2', '3', '1', '4', '6', '6', '6'], ['1', '3', '8', '3', '3', '10', '5'], ['7', '9', '9', '1', '5', '5', '2'], ['7', '1', '10', '1', '2', '6', '1'], ['1', '6', '2', '3', '7', '8', '9']]\n"
          ]
        }
      ]
    }
  ]
}